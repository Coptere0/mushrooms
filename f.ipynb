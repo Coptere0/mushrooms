{
 "cells": [
  {
   "cell_type": "code",
   "id": "initial_id",
   "metadata": {
    "collapsed": true,
    "is_executing": true
   },
   "source": [
    "import pandas as pd\n",
    "from ucimlrepo import fetch_ucirepo \n",
    "  \n",
    "# fetch dataset \n",
    "mushroom = fetch_ucirepo(id=73) \n",
    "  \n",
    "# data (as pandas dataframes) \n",
    "X = mushroom.data.features \n",
    "y = mushroom.data.targets \n"
   ],
   "outputs": [],
   "execution_count": null
  },
  {
   "metadata": {
    "ExecuteTime": {
     "end_time": "2024-08-09T12:29:41.735927Z",
     "start_time": "2024-08-09T12:29:41.731750Z"
    }
   },
   "cell_type": "code",
   "source": [
    "from tabulate import tabulate"
   ],
   "id": "af8772cd1a81eaa5",
   "outputs": [],
   "execution_count": 21
  },
  {
   "metadata": {
    "ExecuteTime": {
     "end_time": "2024-08-09T12:29:41.744974Z",
     "start_time": "2024-08-09T12:29:41.737043Z"
    }
   },
   "cell_type": "code",
   "source": [
    "\n",
    "print(tabulate(mushroom.variables) ) "
   ],
   "id": "a22d17759d891ef0",
   "outputs": [
    {
     "name": "stdout",
     "output_type": "stream",
     "text": [
      "--  ------------------------  -------  -----------    ---------------------------------------------------------------------------------------------------    ---\n",
      " 0  poisonous                 Target   Categorical                                                                                                           no\n",
      " 1  cap-shape                 Feature  Categorical    bell=b,conical=c,convex=x,flat=f, knobbed=k,sunken=s                                                   no\n",
      " 2  cap-surface               Feature  Categorical    fibrous=f,grooves=g,scaly=y,smooth=s                                                                   no\n",
      " 3  cap-color                 Feature  Binary         brown=n,buff=b,cinnamon=c,gray=g,green=r, pink=p,purple=u,red=e,white=w,yellow=y                       no\n",
      " 4  bruises                   Feature  Categorical    bruises=t,no=f                                                                                         no\n",
      " 5  odor                      Feature  Categorical    almond=a,anise=l,creosote=c,fishy=y,foul=f, musty=m,none=n,pungent=p,spicy=s                           no\n",
      " 6  gill-attachment           Feature  Categorical    attached=a,descending=d,free=f,notched=n                                                               no\n",
      " 7  gill-spacing              Feature  Categorical    close=c,crowded=w,distant=d                                                                            no\n",
      " 8  gill-size                 Feature  Categorical    broad=b,narrow=n                                                                                       no\n",
      " 9  gill-color                Feature  Categorical    black=k,brown=n,buff=b,chocolate=h,gray=g, green=r,orange=o,pink=p,purple=u,red=e, white=w,yellow=y    no\n",
      "10  stalk-shape               Feature  Categorical    enlarging=e,tapering=t                                                                                 no\n",
      "11  stalk-root                Feature  Categorical    bulbous=b,club=c,cup=u,equal=e, rhizomorphs=z,rooted=r,missing=?                                       yes\n",
      "12  stalk-surface-above-ring  Feature  Categorical    fibrous=f,scaly=y,silky=k,smooth=s                                                                     no\n",
      "13  stalk-surface-below-ring  Feature  Categorical    fibrous=f,scaly=y,silky=k,smooth=s                                                                     no\n",
      "14  stalk-color-above-ring    Feature  Categorical    brown=n,buff=b,cinnamon=c,gray=g,orange=o, pink=p,red=e,white=w,yellow=y                               no\n",
      "15  stalk-color-below-ring    Feature  Categorical    brown=n,buff=b,cinnamon=c,gray=g,orange=o, pink=p,red=e,white=w,yellow=y                               no\n",
      "16  veil-type                 Feature  Binary         partial=p,universal=u                                                                                  no\n",
      "17  veil-color                Feature  Categorical    brown=n,orange=o,white=w,yellow=y                                                                      no\n",
      "18  ring-number               Feature  Categorical    none=n,one=o,two=t                                                                                     no\n",
      "19  ring-type                 Feature  Categorical    cobwebby=c,evanescent=e,flaring=f,large=l, none=n,pendant=p,sheathing=s,zone=z                         no\n",
      "20  spore-print-color         Feature  Categorical    black=k,brown=n,buff=b,chocolate=h,green=r, orange=o,purple=u,white=w,yellow=y                         no\n",
      "21  population                Feature  Categorical    abundant=a,clustered=c,numerous=n, scattered=s,several=v,solitary=y                                    no\n",
      "22  habitat                   Feature  Categorical    grasses=g,leaves=l,meadows=m,paths=p, urban=u,waste=w,woods=d                                          no\n",
      "--  ------------------------  -------  -----------    ---------------------------------------------------------------------------------------------------    ---\n"
     ]
    }
   ],
   "execution_count": 22
  },
  {
   "metadata": {
    "ExecuteTime": {
     "end_time": "2024-08-09T12:36:23.770153Z",
     "start_time": "2024-08-09T12:36:23.764650Z"
    }
   },
   "cell_type": "code",
   "source": [
    "def lettre(description):\n",
    "    list2 = []\n",
    "    for x in description.split(\",\"):\n",
    "        list2.append(x[-1])\n",
    "    return list2"
   ],
   "id": "af22c9db62654ede",
   "outputs": [],
   "execution_count": 59
  },
  {
   "metadata": {
    "ExecuteTime": {
     "end_time": "2024-08-09T12:36:58.410699Z",
     "start_time": "2024-08-09T12:36:58.401700Z"
    }
   },
   "cell_type": "code",
   "source": [
    "l = \"bell=b,conical=c,convex=x,flat=f, knobbed=k,sunken=s\"\n",
    "lettre(l)"
   ],
   "id": "d59fda3741ba2a8c",
   "outputs": [
    {
     "data": {
      "text/plain": [
       "['b', 'c', 'x', 'f', 'k', 's']"
      ]
     },
     "execution_count": 61,
     "metadata": {},
     "output_type": "execute_result"
    }
   ],
   "execution_count": 61
  },
  {
   "metadata": {
    "ExecuteTime": {
     "end_time": "2024-08-09T12:37:02.501303Z",
     "start_time": "2024-08-09T12:37:02.496992Z"
    }
   },
   "cell_type": "code",
   "source": [
    "df = pd.DataFrame(mushroom.variables)"
   ],
   "id": "b9d20b75cd507e4f",
   "outputs": [],
   "execution_count": 62
  },
  {
   "metadata": {
    "ExecuteTime": {
     "end_time": "2024-08-09T12:37:03.487946Z",
     "start_time": "2024-08-09T12:37:03.480215Z"
    }
   },
   "cell_type": "code",
   "source": [
    "df.drop(0, axis=0, inplace=True)"
   ],
   "id": "3a1c5c4ad790873d",
   "outputs": [],
   "execution_count": 63
  },
  {
   "metadata": {
    "ExecuteTime": {
     "end_time": "2024-08-09T12:37:04.899915Z",
     "start_time": "2024-08-09T12:37:04.894925Z"
    }
   },
   "cell_type": "code",
   "source": [
    "df[\"description_mod\"] = df[\"description\"].apply(lettre)"
   ],
   "id": "a621d89c60fce80a",
   "outputs": [],
   "execution_count": 64
  },
  {
   "metadata": {
    "ExecuteTime": {
     "end_time": "2024-08-09T12:40:54.800074Z",
     "start_time": "2024-08-09T12:40:54.792313Z"
    }
   },
   "cell_type": "code",
   "source": [
    "df.to_csv(\"mushroom_variables.csv\", index=False)"
   ],
   "id": "ca4579a20b80fbda",
   "outputs": [],
   "execution_count": 67
  },
  {
   "metadata": {},
   "cell_type": "code",
   "outputs": [],
   "execution_count": null,
   "source": [],
   "id": "acc40fab632950fa"
  },
  {
   "metadata": {},
   "cell_type": "code",
   "outputs": [],
   "execution_count": null,
   "source": [],
   "id": "5212cadd7f024ea3"
  }
 ],
 "metadata": {
  "kernelspec": {
   "display_name": "Python 3",
   "language": "python",
   "name": "python3"
  },
  "language_info": {
   "codemirror_mode": {
    "name": "ipython",
    "version": 2
   },
   "file_extension": ".py",
   "mimetype": "text/x-python",
   "name": "python",
   "nbconvert_exporter": "python",
   "pygments_lexer": "ipython2",
   "version": "2.7.6"
  }
 },
 "nbformat": 4,
 "nbformat_minor": 5
}
